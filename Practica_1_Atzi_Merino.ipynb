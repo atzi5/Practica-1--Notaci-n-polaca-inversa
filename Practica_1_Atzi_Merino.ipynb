{
  "nbformat": 4,
  "nbformat_minor": 0,
  "metadata": {
    "colab": {
      "provenance": []
    },
    "kernelspec": {
      "name": "python3",
      "display_name": "Python 3"
    },
    "language_info": {
      "name": "python"
    }
  },
  "cells": [
    {
      "cell_type": "markdown",
      "source": [
        "#PRÁCTICA 1 DE PROGRAMACIÓN\n",
        "\n",
        "**ATZI MERINO**"
      ],
      "metadata": {
        "id": "jeqAxmzVueDn"
      }
    },
    {
      "cell_type": "markdown",
      "source": [
        "FUNCIONES"
      ],
      "metadata": {
        "id": "rnQovI5_usqP"
      }
    },
    {
      "cell_type": "code",
      "source": [
        "#Esta parte convierte las cadenas en listas de enteros y cadenas\n",
        "def elementos(expresion):\n",
        "  lista_expresion = expresion.split(\" \") #Convierte la cadena del input en lista de cadenas\n",
        "  lista_elementos = [] #En esta lista vacía se guardaran los elementos ya convertidos a enteros o cadenas\n",
        "  for elemento in lista_expresion:\n",
        "    if elemento.isdigit():\n",
        "      lista_elementos.append(int(elemento))\n",
        "    else:\n",
        "      lista_elementos.append(elemento)\n",
        "  return lista_elementos"
      ],
      "metadata": {
        "id": "eUIQxuyBU0KN"
      },
      "execution_count": null,
      "outputs": []
    },
    {
      "cell_type": "code",
      "source": [
        "#Esta parte ordenará la lista de elementos en forma polaca inversa\n",
        "def polacainv(lista):\n",
        "  lista_polacainv = [] #Lista donde se guardarán los elementos en el orden de la cadena final\n",
        "  pila = [] #Lista donde se guardaran los operadores de forma momentanea\n",
        "  for x in lista:\n",
        "    if type(x) == int: #Comienza a leer qué tipo de símbolo es y dependiendo de eso lo guarda en la pila o lo agrega a la cadena final\n",
        "      lista_polacainv.append(x)\n",
        "      txt.append(\"Me encontré un \" + str(x) + \" en la expresión, lo agregué a la cadena final. \")\n",
        "    elif x == \"+\" or x == \"-\":\n",
        "      txt.append(\"Me encontré un \" + str(x) + \" en la expresión. \")\n",
        "      if len(pila) > 0:\n",
        "        while pila[-1] == \"*\" or pila[-1] == \"/\" or pila[-1] == \"**\":\n",
        "          lista_polacainv.append(pila[-1])\n",
        "          txt.append(\"Pero me encontré un \" + pila[-1] + \" en la pila, que es de mayor jerarquía, así que la agregue a la cadena final. \")\n",
        "          pila.pop()\n",
        "      pila.append(x)\n",
        "      txt.append(\"Agregué el \" + str(x) + \" a la pila. \")\n",
        "    elif x == \"*\" or x == \"/\":\n",
        "      txt.append(\"Me encontré un \" + str(x) + \" en la expresión. \")\n",
        "      if len(pila) > 0:\n",
        "        while pila[-1] == \"**\":\n",
        "          lista_polacainv.append(pila[-1])\n",
        "          txt.append(\"Pero me encontré un \" + pila[-1] + \" en la pila, que es de mayor jerarquía, así que la agregue a la cadena final. \")\n",
        "          pila.pop()\n",
        "      pila.append(x)\n",
        "      txt.append(\"Agregué el \" + str(x) + \" a la pila. \")\n",
        "    elif x == \"**\":\n",
        "      txt.append(\"Me encontré un \" + str(x) + \" en la expresión. \")\n",
        "      pila.append(x)\n",
        "      txt.append(\"Agregué el ** a la pila. \")\n",
        "    elif x == \"(\":\n",
        "      pila.append(x)\n",
        "      txt.append(\"Me encontré un ( en la expresión, lo agregué a la pila. \")\n",
        "    elif x == \")\":\n",
        "      txt.append(\"Me encontré un ) en la expresión. \")\n",
        "      if len(pila) > 0:\n",
        "        while pila[-1] != \"(\":\n",
        "          lista_polacainv.append(pila[-1])\n",
        "          txt.append(\"Y había un \" + pila [-1] + \" al final de la pila, lo agregué a la cadena final. \")\n",
        "          pila.pop()\n",
        "        pila.pop()\n",
        "        txt.append(\"Me encontré el ( al final de la pila, entonces lo borré de la pila. \")\n",
        "  while len(pila) > 0:\n",
        "    if pila[-1] != \"(\":\n",
        "      lista_polacainv.append(pila[-1])\n",
        "      txt.append(\"Agregué \" + pila[-1] + \" que seguía en la pila a la cadena final. \")\n",
        "      pila.pop()\n",
        "    else:\n",
        "      pila.pop()\n",
        "  return lista_polacainv #Esta función devuelve otra lista pero con los elementos ordenados"
      ],
      "metadata": {
        "id": "nb82I_dmEoGV"
      },
      "execution_count": null,
      "outputs": []
    },
    {
      "cell_type": "code",
      "source": [
        "#Convertirá la expresión p.i. como lista en una cadena\n",
        "def cadena(lista):\n",
        "  cadena_final = \"\" #Output\n",
        "  for termino in lista:\n",
        "    cadena_final += \" \" + str(termino)\n",
        "  return cadena_final"
      ],
      "metadata": {
        "id": "SRtTzxT8UPv4"
      },
      "execution_count": null,
      "outputs": []
    },
    {
      "cell_type": "markdown",
      "source": [
        "MAIN"
      ],
      "metadata": {
        "id": "Xn0b_V9JuvU1"
      }
    },
    {
      "cell_type": "code",
      "source": [
        "#El __main__ ejecuta las tres funciones anteriores una tras otra almacenando cada una en una variable\n",
        "if __name__ == '__main__':\n",
        "  expresion_aritmetica = \" 3 * ( 1 + 3 ) ** 2 \" #Input\n",
        "  txt = [] #Lista vacía donde se guardarán las cadenas para formar el .txt\n",
        "  lista_aritmetica = elementos(expresion_aritmetica)\n",
        "  polacainversa = polacainv(lista_aritmetica)\n",
        "  output = cadena(polacainversa)\n",
        "  print(output)\n",
        "\n",
        "  with open(\"pasos.txt\", \"w\") as file:\n",
        "    for i in txt:\n",
        "      file.write(f\"{i}\")"
      ],
      "metadata": {
        "id": "n6fAA_Tzgel9",
        "colab": {
          "base_uri": "https://localhost:8080/"
        },
        "outputId": "eef82d2e-5921-4908-ba6d-ea50dc9f483c"
      },
      "execution_count": null,
      "outputs": [
        {
          "output_type": "stream",
          "name": "stdout",
          "text": [
            " 3 1 3 + 2 ** *\n"
          ]
        }
      ]
    }
  ]
}